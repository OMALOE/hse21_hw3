{
  "nbformat": 4,
  "nbformat_minor": 0,
  "metadata": {
    "colab": {
      "name": "Архипов_hse21_HW3.ipynb",
      "provenance": [],
      "collapsed_sections": [],
      "include_colab_link": true
    },
    "kernelspec": {
      "name": "python3",
      "display_name": "Python 3"
    },
    "language_info": {
      "name": "python"
    }
  },
  "cells": [
    {
      "cell_type": "markdown",
      "metadata": {
        "id": "view-in-github",
        "colab_type": "text"
      },
      "source": [
        "<a href=\"https://colab.research.google.com/github/OMALOE/hse21_hw3/blob/main/%D0%90%D1%80%D1%85%D0%B8%D0%BF%D0%BE%D0%B2_hse21_HW3.ipynb\" target=\"_parent\"><img src=\"https://colab.research.google.com/assets/colab-badge.svg\" alt=\"Open In Colab\"/></a>"
      ]
    },
    {
      "cell_type": "markdown",
      "metadata": {
        "id": "3rFZS5A_yy1o"
      },
      "source": [
        "# Подготовка файлов и программ"
      ]
    },
    {
      "cell_type": "code",
      "metadata": {
        "id": "q_sqymjjHlY8"
      },
      "source": [
        ""
      ],
      "execution_count": null,
      "outputs": []
    },
    {
      "cell_type": "markdown",
      "metadata": {
        "id": "7DFpK_Pf1hAX"
      },
      "source": [
        "## Установка HISAT2 (для выравниваия RNA-seq чтений на геном)"
      ]
    },
    {
      "cell_type": "code",
      "metadata": {
        "id": "WS21uIX63ehw",
        "colab": {
          "base_uri": "https://localhost:8080/"
        },
        "outputId": "c4dc104a-35d5-4f92-85e9-ffc68236fae5"
      },
      "source": [
        "!apt-get update"
      ],
      "execution_count": null,
      "outputs": [
        {
          "output_type": "stream",
          "name": "stdout",
          "text": [
            "Get:1 https://cloud.r-project.org/bin/linux/ubuntu bionic-cran40/ InRelease [3,626 B]\n",
            "Ign:2 https://developer.download.nvidia.com/compute/cuda/repos/ubuntu1804/x86_64  InRelease\n",
            "Ign:3 https://developer.download.nvidia.com/compute/machine-learning/repos/ubuntu1804/x86_64  InRelease\n",
            "Get:4 https://developer.download.nvidia.com/compute/cuda/repos/ubuntu1804/x86_64  Release [696 B]\n",
            "Hit:5 https://developer.download.nvidia.com/compute/machine-learning/repos/ubuntu1804/x86_64  Release\n",
            "Get:6 http://ppa.launchpad.net/c2d4u.team/c2d4u4.0+/ubuntu bionic InRelease [15.9 kB]\n",
            "Get:7 https://developer.download.nvidia.com/compute/cuda/repos/ubuntu1804/x86_64  Release.gpg [836 B]\n",
            "Get:9 http://security.ubuntu.com/ubuntu bionic-security InRelease [88.7 kB]\n",
            "Get:10 https://developer.download.nvidia.com/compute/cuda/repos/ubuntu1804/x86_64  Packages [829 kB]\n",
            "Hit:11 http://ppa.launchpad.net/cran/libgit2/ubuntu bionic InRelease\n",
            "Hit:12 http://ppa.launchpad.net/deadsnakes/ppa/ubuntu bionic InRelease\n",
            "Get:13 http://security.ubuntu.com/ubuntu bionic-security/main amd64 Packages [2,446 kB]\n",
            "Hit:14 http://archive.ubuntu.com/ubuntu bionic InRelease\n",
            "Hit:15 http://ppa.launchpad.net/graphics-drivers/ppa/ubuntu bionic InRelease\n",
            "Get:16 http://archive.ubuntu.com/ubuntu bionic-updates InRelease [88.7 kB]\n",
            "Get:17 http://ppa.launchpad.net/c2d4u.team/c2d4u4.0+/ubuntu bionic/main Sources [1,813 kB]\n",
            "Get:18 http://security.ubuntu.com/ubuntu bionic-security/universe amd64 Packages [1,444 kB]\n",
            "Get:19 http://security.ubuntu.com/ubuntu bionic-security/restricted amd64 Packages [685 kB]\n",
            "Get:20 http://archive.ubuntu.com/ubuntu bionic-backports InRelease [74.6 kB]\n",
            "Get:21 http://archive.ubuntu.com/ubuntu bionic-updates/main amd64 Packages [2,888 kB]\n",
            "Get:22 http://ppa.launchpad.net/c2d4u.team/c2d4u4.0+/ubuntu bionic/main amd64 Packages [930 kB]\n",
            "Get:23 http://archive.ubuntu.com/ubuntu bionic-updates/restricted amd64 Packages [719 kB]\n",
            "Get:24 http://archive.ubuntu.com/ubuntu bionic-updates/universe amd64 Packages [2,225 kB]\n",
            "Fetched 14.3 MB in 6s (2,361 kB/s)\n",
            "Reading package lists... Done\n"
          ]
        }
      ]
    },
    {
      "cell_type": "code",
      "metadata": {
        "id": "3md6cslv3is6",
        "colab": {
          "base_uri": "https://localhost:8080/"
        },
        "outputId": "a05811e7-fee2-43cf-e332-5d45c025ab88"
      },
      "source": [
        "!apt-get install hisat2"
      ],
      "execution_count": null,
      "outputs": [
        {
          "output_type": "stream",
          "name": "stdout",
          "text": [
            "Reading package lists... Done\n",
            "Building dependency tree       \n",
            "Reading state information... Done\n",
            "The following NEW packages will be installed:\n",
            "  hisat2\n",
            "0 upgraded, 1 newly installed, 0 to remove and 42 not upgraded.\n",
            "Need to get 1,278 kB of archives.\n",
            "After this operation, 5,144 kB of additional disk space will be used.\n",
            "Get:1 http://archive.ubuntu.com/ubuntu bionic/universe amd64 hisat2 amd64 2.1.0-1 [1,278 kB]\n",
            "Fetched 1,278 kB in 2s (565 kB/s)\n",
            "Selecting previously unselected package hisat2.\n",
            "(Reading database ... 155222 files and directories currently installed.)\n",
            "Preparing to unpack .../hisat2_2.1.0-1_amd64.deb ...\n",
            "Unpacking hisat2 (2.1.0-1) ...\n",
            "Setting up hisat2 (2.1.0-1) ...\n",
            "Processing triggers for man-db (2.8.3-2ubuntu0.1) ...\n"
          ]
        }
      ]
    },
    {
      "cell_type": "code",
      "metadata": {
        "id": "6-Eyz3aD3m8-",
        "colab": {
          "base_uri": "https://localhost:8080/"
        },
        "outputId": "f2365c78-f3b0-4296-822f-b08ffe1b0fbb"
      },
      "source": [
        "!hisat2 --version"
      ],
      "execution_count": null,
      "outputs": [
        {
          "output_type": "stream",
          "name": "stdout",
          "text": [
            "/usr/bin/hisat2-align-s version 2.1.0\n",
            "64-bit\n",
            "Built on Debian unstable\n",
            "Mon Sep  4 12:49:40 UTC 2017\n",
            "Compiler: gcc version 7.2.0 (Ubuntu 7.2.0-12ubuntu1) \n",
            "Options: -O3   -funroll-loops -g3 -Wdate-time -D_FORTIFY_SOURCE=2 -DPOPCNT_CAPABILITY\n",
            "Sizeof {int, long, long long, void*, size_t, off_t}: {4, 8, 8, 8, 8, 8}\n"
          ]
        }
      ]
    },
    {
      "cell_type": "markdown",
      "metadata": {
        "id": "0fTXUIiw2WGQ"
      },
      "source": [
        "## Установка sra-toolkit (для скачивания .fastq файлов из NCBI)"
      ]
    },
    {
      "cell_type": "code",
      "metadata": {
        "id": "5m-7wf_x2Yue"
      },
      "source": [
        "!apt-get install sra-toolkit"
      ],
      "execution_count": null,
      "outputs": []
    },
    {
      "cell_type": "markdown",
      "metadata": {
        "id": "XiVlP4mfy74q"
      },
      "source": [
        "## Установка FastQC"
      ]
    },
    {
      "cell_type": "code",
      "metadata": {
        "id": "62l1Q2ymbENA",
        "colab": {
          "base_uri": "https://localhost:8080/"
        },
        "outputId": "e308cb5d-835c-4fc4-c33a-a542146e9be9"
      },
      "source": [
        "!java -version"
      ],
      "execution_count": null,
      "outputs": [
        {
          "output_type": "stream",
          "name": "stdout",
          "text": [
            "openjdk version \"11.0.11\" 2021-04-20\n",
            "OpenJDK Runtime Environment (build 11.0.11+9-Ubuntu-0ubuntu2.18.04)\n",
            "OpenJDK 64-Bit Server VM (build 11.0.11+9-Ubuntu-0ubuntu2.18.04, mixed mode, sharing)\n"
          ]
        }
      ]
    },
    {
      "cell_type": "code",
      "metadata": {
        "id": "8bpgwFgcbgRd",
        "colab": {
          "base_uri": "https://localhost:8080/"
        },
        "outputId": "55f9fc75-b822-4b3a-e5dd-d9c5463caea8"
      },
      "source": [
        "!wget https://www.bioinformatics.babraham.ac.uk/projects/fastqc/fastqc_v0.11.9.zip"
      ],
      "execution_count": null,
      "outputs": [
        {
          "output_type": "stream",
          "name": "stdout",
          "text": [
            "--2021-11-30 10:42:50--  https://www.bioinformatics.babraham.ac.uk/projects/fastqc/fastqc_v0.11.9.zip\n",
            "Resolving www.bioinformatics.babraham.ac.uk (www.bioinformatics.babraham.ac.uk)... 149.155.133.4\n",
            "Connecting to www.bioinformatics.babraham.ac.uk (www.bioinformatics.babraham.ac.uk)|149.155.133.4|:443... connected.\n",
            "HTTP request sent, awaiting response... 200 OK\n",
            "Length: 10249221 (9.8M) [application/zip]\n",
            "Saving to: ‘fastqc_v0.11.9.zip’\n",
            "\n",
            "fastqc_v0.11.9.zip  100%[===================>]   9.77M   911KB/s    in 14s     \n",
            "\n",
            "2021-11-30 10:43:05 (727 KB/s) - ‘fastqc_v0.11.9.zip’ saved [10249221/10249221]\n",
            "\n"
          ]
        }
      ]
    },
    {
      "cell_type": "code",
      "metadata": {
        "id": "yTcTjOTJblcm"
      },
      "source": [
        "!unzip fastqc_v0.11.9.zip"
      ],
      "execution_count": null,
      "outputs": []
    },
    {
      "cell_type": "code",
      "metadata": {
        "id": "S79LH0aXbvLx"
      },
      "source": [
        "!chmod a+x FastQC/fastqc"
      ],
      "execution_count": null,
      "outputs": []
    },
    {
      "cell_type": "code",
      "metadata": {
        "id": "PsLuZDt4b7jT"
      },
      "source": [
        "!./FastQC/fastqc --help"
      ],
      "execution_count": null,
      "outputs": []
    },
    {
      "cell_type": "markdown",
      "metadata": {
        "id": "3dqWpZZ_0_V-"
      },
      "source": [
        "## Установка HTSeq-count"
      ]
    },
    {
      "cell_type": "code",
      "metadata": {
        "id": "1_yqggdMhMfj",
        "colab": {
          "base_uri": "https://localhost:8080/"
        },
        "outputId": "0e55f95c-8c5f-4cb0-8e70-a896f5fb3203"
      },
      "source": [
        "!pip install HTSeq"
      ],
      "execution_count": null,
      "outputs": [
        {
          "output_type": "stream",
          "name": "stdout",
          "text": [
            "Collecting HTSeq\n",
            "  Downloading HTSeq-1.99.2-cp37-cp37m-manylinux_2_5_x86_64.manylinux1_x86_64.manylinux_2_12_x86_64.manylinux2010_x86_64.whl (1.5 MB)\n",
            "\u001b[K     |████████████████████████████████| 1.5 MB 3.9 MB/s \n",
            "\u001b[?25hRequirement already satisfied: numpy in /usr/local/lib/python3.7/dist-packages (from HTSeq) (1.19.5)\n",
            "Collecting pysam\n",
            "  Downloading pysam-0.18.0-cp37-cp37m-manylinux_2_12_x86_64.manylinux2010_x86_64.whl (14.9 MB)\n",
            "\u001b[K     |████████████████████████████████| 14.9 MB 10.8 MB/s \n",
            "\u001b[?25hInstalling collected packages: pysam, HTSeq\n",
            "Successfully installed HTSeq-1.99.2 pysam-0.18.0\n"
          ]
        }
      ]
    },
    {
      "cell_type": "code",
      "metadata": {
        "id": "L7W0Ep2nhT_d",
        "colab": {
          "base_uri": "https://localhost:8080/"
        },
        "outputId": "277a1968-8e49-460b-c4de-8966e36b6765"
      },
      "source": [
        "!htseq-count --version"
      ],
      "execution_count": null,
      "outputs": [
        {
          "output_type": "stream",
          "name": "stdout",
          "text": [
            "Traceback (most recent call last):\n",
            "  File \"/usr/local/bin/htseq-count\", line 3, in <module>\n",
            "    import HTSeq.scripts.count\n",
            "  File \"/usr/local/lib/python3.7/dist-packages/HTSeq/__init__.py\", line 13, in <module>\n",
            "    from HTSeq._HTSeq import *\n",
            "  File \"src/HTSeq/_HTSeq.pyx\", line 1, in init HTSeq._HTSeq\n",
            "ValueError: numpy.ndarray size changed, may indicate binary incompatibility. Expected 88 from C header, got 80 from PyObject\n"
          ]
        }
      ]
    },
    {
      "cell_type": "markdown",
      "metadata": {
        "id": "I6MhDf5N2tQ3"
      },
      "source": [
        "## Скачиваем RNA-seq данные"
      ]
    },
    {
      "cell_type": "markdown",
      "metadata": {
        "id": "LicIlxo028wE"
      },
      "source": [
        "* Перепрограммированные образцы: \tSRR3414629, SRR3414630, SRR3414631\n",
        "* Контрольные образцы:\t\tSRR3414635, SRR3414636, SRR3414637\n",
        "\n",
        "**Один образец скачивается 5-10 мин!!**"
      ]
    },
    {
      "cell_type": "code",
      "metadata": {
        "id": "c7-OCZli2z38",
        "colab": {
          "base_uri": "https://localhost:8080/"
        },
        "outputId": "da530979-6534-4473-ae43-aa42da70a9ad"
      },
      "source": [
        "!time  fastq-dump  --split-files SRR3414630"
      ],
      "execution_count": null,
      "outputs": [
        {
          "output_type": "stream",
          "name": "stdout",
          "text": [
            "Read 15244711 spots for SRR3414630\n",
            "Written 15244711 spots for SRR3414630\n",
            "\n",
            "real\t16m24.075s\n",
            "user\t2m7.730s\n",
            "sys\t0m10.846s\n"
          ]
        }
      ]
    },
    {
      "cell_type": "code",
      "metadata": {
        "colab": {
          "base_uri": "https://localhost:8080/"
        },
        "id": "iAKkSd9DSvqN",
        "outputId": "1e7a6425-9b0c-4a35-daf9-7176b7597ec8"
      },
      "source": [
        "from google.colab import drive\n",
        "drive.mount('/content/drive')"
      ],
      "execution_count": null,
      "outputs": [
        {
          "output_type": "stream",
          "name": "stdout",
          "text": [
            "Mounted at /content/drive\n"
          ]
        }
      ]
    },
    {
      "cell_type": "markdown",
      "metadata": {
        "id": "HAn1rivS0BME"
      },
      "source": [
        "## Скачиваем геном мыши mm10 (проиндексированный для HISAT2)"
      ]
    },
    {
      "cell_type": "code",
      "metadata": {
        "id": "wWfSQMGZ03Ch"
      },
      "source": [
        "!wget https://genome-idx.s3.amazonaws.com/hisat/mm10_genome.tar.gz"
      ],
      "execution_count": null,
      "outputs": []
    },
    {
      "cell_type": "code",
      "metadata": {
        "id": "9IKaXKp7eLjq"
      },
      "source": [
        "!tar -xzvf mm10_genome.tar.gz"
      ],
      "execution_count": null,
      "outputs": []
    },
    {
      "cell_type": "markdown",
      "metadata": {
        "id": "sGULD5P70tvT"
      },
      "source": [
        "## Скачиваем аннотацию генов GENCODE для генома мыши mm10"
      ]
    },
    {
      "cell_type": "code",
      "metadata": {
        "id": "P8SxMZMC3Aw-"
      },
      "source": [
        "!wget http://ftp.ebi.ac.uk/pub/databases/gencode/Gencode_mouse/release_M25/gencode.vM25.annotation.gtf.gz"
      ],
      "execution_count": null,
      "outputs": []
    },
    {
      "cell_type": "code",
      "metadata": {
        "id": "K9RerBtX8iFF"
      },
      "source": [
        "!gzip -d gencode.vM25.annotation.gtf.gz"
      ],
      "execution_count": null,
      "outputs": []
    },
    {
      "cell_type": "markdown",
      "metadata": {
        "id": "zzucvMQkzzs9"
      },
      "source": [
        "# Выравнивание чтений"
      ]
    },
    {
      "cell_type": "markdown",
      "metadata": {
        "id": "bH70xoP87343"
      },
      "source": [
        "**Ниже приведены примеры запуска только для одного файла. Вам следует сделать это для всех 6-ти файлов.**"
      ]
    },
    {
      "cell_type": "markdown",
      "metadata": {
        "id": "TRBfl7NL3xgN"
      },
      "source": [
        "* Для каждого образца запускаем FastQC. Скачиваем полученные html файлы и проверяем есть ли проблемы с файлами. Можно также установить multiqc и получить объединенный .html файл. Полученные результаты приводим в отчете на Github-е.\n",
        "\n"
      ]
    },
    {
      "cell_type": "code",
      "metadata": {
        "id": "ABkz3YC8cjhD"
      },
      "source": [
        "!./FastQC/fastqc  /content/SRR3414636_1.fastq"
      ],
      "execution_count": null,
      "outputs": []
    },
    {
      "cell_type": "markdown",
      "metadata": {
        "id": "b23N89JW4Eeg"
      },
      "source": [
        "* Запускаем HISAT2 и картируем все чтения на геном мыши.\n",
        "* **Для одного образца программа работает 10-15 мин**\n",
        "* Общее кол-во чтений, и кол-во, которое удалось успешно откартировать (уникально и не уникально), указано в файле SRR3414636.hisat. Приводим эту информацию в отчете на Github"
      ]
    },
    {
      "cell_type": "code",
      "metadata": {
        "id": "us6WSL8Ge6U_"
      },
      "source": [
        "!time hisat2 -p 3 -x mm10/genome -U SRR3414636_1.fastq -S SRR3414636_1.sam  2>  SRR3414636.hisat"
      ],
      "execution_count": null,
      "outputs": []
    },
    {
      "cell_type": "code",
      "metadata": {
        "id": "IMvdwqr0_BA1"
      },
      "source": [
        "!cat SRR3414636.hisat"
      ],
      "execution_count": null,
      "outputs": []
    },
    {
      "cell_type": "markdown",
      "metadata": {
        "id": "f7NUQXYU8C3w"
      },
      "source": [
        "* Отбираем только те чтения, которые откартировались уникально (флаг NH:i:1):"
      ]
    },
    {
      "cell_type": "code",
      "metadata": {
        "id": "0scVvWyz8Gjk"
      },
      "source": [
        "!grep -P '^@|NH:i:1$' SRR3414636_1.sam > SRR3414636.uniq.sam"
      ],
      "execution_count": null,
      "outputs": []
    },
    {
      "cell_type": "markdown",
      "metadata": {
        "id": "ntVSwG4xHHfY"
      },
      "source": [
        "* Удаляем исходные .sam файлы, т.к. они нам больше не потребуются:"
      ]
    },
    {
      "cell_type": "code",
      "metadata": {
        "id": "CHL0L7bvHJ8Z"
      },
      "source": [
        "!rm -v SRR3414636_1.sam"
      ],
      "execution_count": null,
      "outputs": []
    },
    {
      "cell_type": "markdown",
      "metadata": {
        "id": "SeH868YM8RKT"
      },
      "source": [
        "* Считаем кол-во уникально-картированных чтений (17825380 чтений)\n"
      ]
    },
    {
      "cell_type": "code",
      "metadata": {
        "id": "XBdA-OAz_nvx"
      },
      "source": [
        "!grep -v '^@' SRR3414636.uniq.sam | wc -l"
      ],
      "execution_count": null,
      "outputs": []
    },
    {
      "cell_type": "markdown",
      "metadata": {
        "id": "_JqUV4J_8a8h"
      },
      "source": [
        "* С помощью программы `HTSeq` Подсчитываем количество чтений, попавших на каждый ген (**для одного образца программа работает 15-20 мин**):\n",
        "* Аннтоация генома мыши в формате .gtf находится в файле `gencode.vM25.annotation.gtf`\n"
      ]
    },
    {
      "cell_type": "code",
      "metadata": {
        "id": "p7IHTD5Ihorm"
      },
      "source": [
        "!time htseq-count --format=sam --stranded=no SRR3414636.uniq.sam  gencode.vM25.annotation.gtf > SRR3414636.counts"
      ],
      "execution_count": null,
      "outputs": []
    },
    {
      "cell_type": "markdown",
      "metadata": {
        "id": "CHTMa6RlA_m4"
      },
      "source": [
        "* Смотрим сколько чтений не удалось приписать ни одному гену:\n",
        "* `__no_feature 1332692` – столько чтений соответствует участкам генома, где не аннотировано ни одного экзона\n",
        "* `__ambiguous 735108` – столько чтений могут принадлежать разным генам\n",
        "* Более подробно про такие случаи можно посмотреть в описании HTSeq-count - https://htseq.readthedocs.io/en/release_0.11.1/count.html\n",
        "* Итого, общее число чтений, соответствующих хотя бы одному гену равно:\n",
        "17825380 – 1332692 – 735108 = 15757580\n",
        "* Для каждого образца приводим эту статистику в отчете на Github\n"
      ]
    },
    {
      "cell_type": "code",
      "metadata": {
        "id": "fvENnVBnisX1"
      },
      "source": [
        "! grep '^__' SRR3414636.counts"
      ],
      "execution_count": null,
      "outputs": []
    },
    {
      "cell_type": "markdown",
      "metadata": {
        "id": "lQ-ryqO0BiDp"
      },
      "source": [
        "* Объединям все файлы .counts по генам в один общий файл `ALL.counts`.\n",
        "* В качестве заголовка для каждого образца указывать не его SRR id, а c1, c2, c3 для контрольных образцов и r1, r2, r3 для перепрограммированных образцов.\n",
        "* Загружаем полученный ALL.counts файл в Github репозиторий"
      ]
    }
  ]
}